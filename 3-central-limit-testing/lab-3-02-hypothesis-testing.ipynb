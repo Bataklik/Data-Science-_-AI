{
 "cells": [
  {
   "cell_type": "markdown",
   "metadata": {},
   "source": [
    "# Lab 3.02 - Statistical hypothesis testing\n",
    "\n",
    "## Exercise 1 - Binding recommendation on continuation of studies \n",
    "\n",
    "It is being said that introducing a “binding recommendation on continuation of studies” (refusing enrollment in the next academic year if a student did not complete a certain level of credits, NL: \"bindend studie-advies, BSA\") has a positive effect on the study efficiency and success rate. Before the introduction of binding recommendations, the number of completed credits per student per year was 44 with a standard deviation of 6.2. After the introduction, a sample of 72 random students has an average number of completed credits of 46.2.\n",
    "\n",
    "1. Test whether there is evidence that the introduction of binding recommendations has improved the success rate among students. Calculate the critical value for a significance level of $\\alpha = 2.5\\%$.\n",
    "2. Do the same by calculating the $p$-value.\n",
    "3. Interpret the meaning of $\\alpha$ being 2.5%."
   ]
  },
  {
   "cell_type": "code",
   "execution_count": null,
   "metadata": {},
   "outputs": [],
   "source": [
    "# Importing the necessary packages\n",
    "import numpy as np                                  # \"Scientific computing\"\n",
    "import scipy.stats as stats                         # Statistical tests\n",
    "\n",
    "import random\n",
    "import math\n",
    "\n",
    "import pandas as pd                                 # Data Frame\n",
    "from pandas.api.types import CategoricalDtype\n",
    "\n",
    "import matplotlib.pyplot as plt                     # Basic visualisation\n",
    "from statsmodels.graphics.mosaicplot import mosaic  # Mosaic diagram\n",
    "import seaborn as sns                               # Advanced data visualisation\n",
    "# Alternative visualisation system\n",
    "import altair as alt\n"
   ]
  },
  {
   "cell_type": "code",
   "execution_count": null,
   "metadata": {},
   "outputs": [],
   "source": [
    "# Properties of the sample:\n",
    "n = 72      # sample size\n",
    "sm = 46.2  # sample mean\n",
    "s = 6.2    # population standard deviation (assumed to be known)\n",
    "a = 0.025    # significance level (chosen by the researcher)\n",
    "m0 = 44    # hypothetical population mean (H0)"
   ]
  },
  {
   "cell_type": "code",
   "execution_count": null,
   "metadata": {},
   "outputs": [],
   "source": [
    "# Gauss-curve plot:\n",
    "# X-values\n",
    "dist_x = np.linspace(m0 - 4 * s/np.sqrt(n), m0 + 4 * s/np.sqrt(n), num=201)\n",
    "# Y-values for the Gauss curve\n",
    "dist_y = stats.norm.pdf(dist_x, m0, s/np.sqrt(n))\n",
    "fig, dplot = plt.subplots(1, 1)\n",
    "# Plot the Gauss-curve\n",
    "dplot.plot(dist_x, dist_y)\n",
    "# Show the hypothetical population mean with an orange line\n",
    "dplot.axvline(m0, color=\"orange\", lw=2)\n",
    "# Show the sample mean with a red line\n",
    "dplot.axvline(sm, color=\"red\")\n"
   ]
  },
  {
   "attachments": {},
   "cell_type": "markdown",
   "metadata": {},
   "source": [
    "Determine the value of the test statistic, in this case $\\overline{x} = 46.2$"
   ]
  },
  {
   "cell_type": "code",
   "execution_count": null,
   "metadata": {},
   "outputs": [],
   "source": [
    "p = stats.norm.sf(sm, loc=m0, scale=s/np.sqrt(n))\n",
    "print(\"p-value: %.5f\" % p)\n",
    "if(p < a):\n",
    "    print(\"p < a: reject H0\")\n",
    "else:\n",
    "    print(\"p > a: do not reject H0\")\n"
   ]
  },
  {
   "cell_type": "code",
   "execution_count": null,
   "metadata": {},
   "outputs": [],
   "source": [
    "# Alternative methode:\n",
    "g = stats.norm.isf(a, loc=m0, scale=s / np.sqrt(n))\n",
    "print(\"Critical value g ≃ %.3f\" % g)\n",
    "if (sm < g):\n",
    "    print(\"sample mean = %.3f < g = %.3f: do not reject H0\" % (sm, g))\n",
    "else:\n",
    "    print(\"sample mean = %.3f > g = %.3f: reject H0\" % (sm, g))\n"
   ]
  },
  {
   "attachments": {},
   "cell_type": "markdown",
   "metadata": {},
   "source": [
    "We kunnen concluderen dat, als we aannemen dat $H_0$ waar is, de kans om een steekproef te trekken uit deze populatie met deze specifieke waarde voor $bar{x}$ zeer klein is. Met het gekozen significantieniveau kunnen we de nulhypothese verwerpen."
   ]
  },
  {
   "cell_type": "markdown",
   "metadata": {},
   "source": [
    "\n",
    "### Answers\n",
    "\n",
    "1. $g \\approx 45.4 < x = 46.2$.\n",
    "\n",
    "    $x$ is inside the critical region, so we can reject the null hypothesis. Therefore, we can assume that binding recommendation on continuation of studies does increase the success rate.\n",
    "\n",
    "2. $P(M > 46.2) \\approx 0.0013 < \\alpha = 0.025$. The probability value is smaller than the significance level, so we can reject the null hypothesis.\n",
    "3. $\\alpha$ represents the probability of rejecting a true null hypothesis $H_0$. In other words, there is a 2.5% chance that you wrongly conclude that the success rate has increased."
   ]
  },
  {
   "cell_type": "markdown",
   "metadata": {},
   "source": [
    "The testing procedure then runs as follows:\n",
    "\n",
    "**Step 1.** Formulate the hypotheses:\n",
    "\n",
    "- $H_0: \\mu = 20.0$\n",
    "- $H_1: \\mu > 20.0$\n",
    "\n",
    "**Step 2.** Choose a significance level, e.g. $\\alpha = 0.05$"
   ]
  },
  {
   "cell_type": "markdown",
   "metadata": {},
   "source": [
    "\n",
    "## Exercise 2 - Car dealers\n",
    "\n",
    "One of the motives for choosing a car dealership is the resale value of the previous car, or more specifically the price a dealer wants to pay for the old car when the customer buys a new one. The importer of Ford wants that all dealers implement the same price policy.\n",
    "\n",
    "The importer is of the opinion that the average price difference between the closest Ford dealer and the dealer where the old car was purchased should be at most €300. It is assumed that, if the difference is larger, potential customers will be more inclined to stay with their previous\n",
    "dealer.\n",
    "\n",
    "In a random sample, the following price differences are recorded:\n",
    "\n",
    "```\n",
    "[400, 350, 400, 500, 300, 350, 200,\n",
    " 500, 200, 250, 250, 500, 350, 100]\n",
    "```\n",
    "\n",
    "Test whether there is reason to assume that the average price difference in reality is significantly greater than €300, using a significance level of 5%."
   ]
  },
  {
   "cell_type": "code",
   "execution_count": null,
   "metadata": {},
   "outputs": [],
   "source": [
    "# We kunnen hier geen z-test gebruiken,\n",
    "# want minder dan 30 stalen, onderliggende distributie onbekend en\n",
    "# ook sigma van populatie en standaard afwijking van populatie niet\n",
    "# Kijk naar REQUIREMENTS van z-test (cursus)\n",
    "# right tailed z-test gekopieerd en zaken aangepast.\n",
    "# Properties of the sample:\n",
    "\n",
    "prices = [400, 350, 400, 500, 300, 350, 200,\n",
    "          500, 200, 250, 250, 500, 350, 100]\n",
    "\n",
    "n = len(prices)      # sample size\n",
    "sm = np.mean(prices)  # sample mean\n",
    "#! Zonder ddof gaat hij delen door n ipv n-1 voor een sample (alleen bij np)\n",
    "s = np.std(prices, ddof=1)  # sample standard deviation\n",
    "a = 0.05    # significance level (chosen by the researcher)\n",
    "m0 = 300.0    # hypothetical population mean (H0)\n",
    "\n",
    "\n",
    "# Gauss-curve plot:\n",
    "# X-values\n",
    "dist_x = np.linspace(m0 - 4 * s/np.sqrt(n), m0 + 4 * s/np.sqrt(n), num=201)\n",
    "# Y-values for the Gauss curve\n",
    "#! .norm wordt veranderd naar .t + df = n-1\n",
    "dist_y = stats.t.pdf(dist_x, loc=m0, scale=s/np.sqrt(n), df=n-1)\n",
    "fig, dplot = plt.subplots(1, 1)\n",
    "# Plot the Gauss-curve\n",
    "dplot.plot(dist_x, dist_y)\n",
    "# Show the hypothetical population mean with an orange line\n",
    "dplot.axvline(m0, color=\"orange\", lw=2)\n",
    "# Show the sample mean with a red line\n",
    "dplot.axvline(sm, color=\"red\")\n"
   ]
  },
  {
   "cell_type": "code",
   "execution_count": null,
   "metadata": {},
   "outputs": [],
   "source": [
    "# methode 1\n",
    "#! Hier wordt er ook aanpassingen gedaan\n",
    "p = stats.t.sf(sm, loc=m0, scale=s/np.sqrt(n), df=n-1)\n",
    "print(\"p-value: %.5f\" % p)\n",
    "#? We hebben een kans groter dan 5%, ga H0 niet verwerpen.\n",
    "if(p < a):\n",
    "    print(\"p < a: reject H0\")\n",
    "else:\n",
    "    print(\"p > a: do not reject H0\")\n"
   ]
  },
  {
   "cell_type": "code",
   "execution_count": null,
   "metadata": {},
   "outputs": [],
   "source": [
    "# methode 2\n",
    "#! Hier wordt er ook aanpassingen gedaan\n",
    "g = stats.t.isf(a, loc=m0, scale=s / np.sqrt(n),df=n-1)\n",
    "print(\"Critical value g ≃ %.3f\" % g)\n",
    "#? Moest het gemiddelde van de sample groter zijn, gaan we verwerpn.\n",
    "#? Maar nu niet\n",
    "if (sm < g):\n",
    "    print(\"sample mean = %.3f < g = %.3f: do not reject H0\" % (sm, g))\n",
    "else:\n",
    "    print(\"sample mean = %.3f > g = %.3f: reject H0\" % (sm, g))\n"
   ]
  },
  {
   "attachments": {},
   "cell_type": "markdown",
   "metadata": {},
   "source": [
    "-> We can conlude that there is not enough evidence to reject the null hypothese."
   ]
  },
  {
   "cell_type": "markdown",
   "metadata": {},
   "source": [
    "### Answers\n",
    "\n",
    "In this context ($n = 14 < 30$) the $z$-test cannot be used. Instead, we use Student’s $t$-test.\n",
    "\n",
    "- $x \\approx 332.143$\n",
    "- $s \\approx 123.424$\n",
    "- $g \\approx 358.42$. The sample mean is outside of the critical region, so we cannot reject $H_0$.\n",
    "- $p \\approx 0.1738$. $p \\nless \\alpha$ , so we cannot reject $H_0$. Based on this sample there is no reason to assume that the average price difference on the residual value of old cars is significantly higher than the amount recommended by the importer."
   ]
  },
  {
   "cell_type": "markdown",
   "metadata": {},
   "source": [
    "## Exercise 3 - rlanders.csv, revisited\n",
    "\n",
    "The variable *Money* represents a gross annual salary (×100\\\\$). We assume this variable has a mean of $\\mu = 500$ with standard deviation $\\sigma = 98$. If we calculate the sample mean over the entire dataset (do this yourself!), it seems to support our assumptions. But what if we looked at\n",
    "men and women separately (variable *Gender*)?\n",
    "\n",
    "First, visualise this case by plotting a kernel density estimate of the variable *Money* over the entire dataset and split up according to *Gender*. Draw a vertical line for the assumed population mean and sample means.\n",
    "\n",
    "Use an appropriate statistical test to verify the statements below, usinge a significance level of $\\alpha = 5\\%$. For each statement, calculate the critical value(s) and the $p$-value.\n",
    "\n",
    "1. The average gross annual salary of men seems higher than the average. Is it also significantly higher?\n",
    "2. The average gross annual salary of women seems lower. Is it significantly lower?\n",
    "3. Calculate the region of acceptance for the average gross annual salary for the sample (men and women combined). In this case we want to verify if the sample mean is significantly different from the expected value, but it can be lower or higher.\n",
    "\n",
    "### Answers\n",
    "\n",
    "1. Sample mean: $\\overline{x} \\approx 507.535$, critical value: $g \\approx 511.456$, $p \\approx 0.1396$. We can **not** reject the null hypothesis. The gross annual income of men in this sample is not significantly higher than expected.\n",
    "2. Sample mean: $\\overline{x} \\approx 472.058$, critical value: $g \\approx 477.646$, $p \\approx 0.0199$. We can reject the null hypothesis. The gross annual income of women in this sample is significantly lower than expected.\n",
    "3. The acceptance region is the interval $[487.852, 512.148]$."
   ]
  },
  {
   "cell_type": "code",
   "execution_count": 58,
   "metadata": {},
   "outputs": [
    {
     "name": "stdout",
     "output_type": "stream",
     "text": [
      "    Gender  Money  Days  Months  Count  Survey\n",
      "ID                                            \n",
      "1   Female    440    29      11     35       3\n",
      "2   Female    503    23      10     52       3\n",
      "3     Male    412    16      11     55       3\n",
      "4     Male    587    25       9     28       5\n",
      "5     Male    525    30      11     41       4\n",
      "gemiddelde: 500.156\n",
      "gemiddelde_man: 507.5353535353535\n",
      "gemiddelde_man: 472.0576923076923\n"
     ]
    }
   ],
   "source": [
    "df = pd.read_csv(\n",
    "    'https://raw.githubusercontent.com/HoGentTIN/dsai-en-labs/main/data/rlanders.csv').set_index(['ID'])\n",
    "\n",
    "print(df.head())\n",
    "gemiddelde = df.Money.mean()\n",
    "print(f\"gemiddelde: {gemiddelde}\")\n",
    "\n",
    "gemiddelde_man = df[df.Gender == \"Male\"].Money.mean()\n",
    "print(f\"gemiddelde_man: {gemiddelde_man}\")\n",
    "\n",
    "gemiddelde_woman = df[df.Gender == \"Female\"].Money.mean()\n",
    "print(f\"gemiddelde_man: {gemiddelde_woman}\")"
   ]
  },
  {
   "cell_type": "code",
   "execution_count": null,
   "metadata": {},
   "outputs": [],
   "source": [
    "f, ax = plt.subplots(1,1)\n",
    "\n",
    "sns.kdeplot(data=df, x=df[df.Gender == \"Male\"].Money, label=\"Mannen\")\n",
    "sns.kdeplot(data=df, x=df[df.Gender == \"Female\"].Money, label=\"Vrouwen\")\n",
    "\n",
    "ax.axvline(gemiddelde, color= 'red', label=\"Gemiddedelde\")\n",
    "ax.axvline(gemiddelde_man, color='blue', label=\"Gemiddedelde mannen\")\n",
    "ax.axvline(gemiddelde_woman, color='pink', label=\"Gemiddedelde vrouwen\")\n",
    "ax.legend()"
   ]
  },
  {
   "attachments": {},
   "cell_type": "markdown",
   "metadata": {},
   "source": [
    "The testing procedure then runs as follows:\n",
    "\n",
    "**Step 1.** Formulate the hypotheses:\n",
    "\n",
    "- $H_0: \\mu = 500.0$\n",
    "- $H_1: \\mu > 500.0$\n",
    "\n",
    "**Step 2.** Choose a significance level, e.g. $\\alpha = 0.05$"
   ]
  },
  {
   "cell_type": "code",
   "execution_count": 65,
   "metadata": {},
   "outputs": [],
   "source": [
    "# Properties of the sample:\n",
    "n = df[df.Gender == \"Male\"].Money.count()  # sample size\n",
    "sm = df[df.Gender == \"Male\"].Money.mean()  # sample mean\n",
    "s = 98    # population standard deviation (assumed to be known)\n",
    "a = 0.05    # significance level (chosen by the researcher)\n",
    "m0 = 500.0    # hypothetical population mean (H0)"
   ]
  },
  {
   "cell_type": "markdown",
   "metadata": {},
   "source": [
    "A plot of this case:"
   ]
  },
  {
   "cell_type": "code",
   "execution_count": 66,
   "metadata": {},
   "outputs": [
    {
     "data": {
      "text/plain": [
       "<matplotlib.lines.Line2D at 0x286d492d0>"
      ]
     },
     "execution_count": 66,
     "metadata": {},
     "output_type": "execute_result"
    },
    {
     "data": {
      "image/png": "[encoded data removed]",
      "text/plain": [
       "<Figure size 640x480 with 1 Axes>"
      ]
     },
     "metadata": {},
     "output_type": "display_data"
    }
   ],
   "source": [
    "# Gauss-curve plot:\n",
    "# X-values\n",
    "dist_x = np.linspace(m0 - 4 * s/np.sqrt(n), m0 + 4 * s/np.sqrt(n), num=201)\n",
    "# Y-values for the Gauss curve\n",
    "dist_y = stats.norm.pdf(dist_x, m0, s/np.sqrt(n))\n",
    "fig, dplot = plt.subplots(1, 1)\n",
    "# Plot the Gauss-curve\n",
    "dplot.plot(dist_x, dist_y)\n",
    "# Show the hypothetical population mean with an orange line\n",
    "dplot.axvline(m0, color=\"orange\", lw=2)\n",
    "# Show the sample mean with a red line\n",
    "dplot.axvline(sm, color=\"red\")"
   ]
  },
  {
   "attachments": {},
   "cell_type": "markdown",
   "metadata": {},
   "source": [
    "**Step 3.** Determine the value of the test statistic, in this case $\\overline{x} = 507.53$"
   ]
  },
  {
   "cell_type": "markdown",
   "metadata": {},
   "source": [
    "**Step 4.** \n",
    "\n",
    "<u>Method 1</u>\n",
    "\n",
    "Determine the $p$-value and reject $H_0$ if $p < \\alpha$.  \n",
    "The $p$-value is the probability, if the null hypothesis is true, to obtain\n",
    "a value for the test statistic that is at least as extreme as the\n",
    "observed value\n"
   ]
  },
  {
   "cell_type": "code",
   "execution_count": 67,
   "metadata": {},
   "outputs": [
    {
     "name": "stdout",
     "output_type": "stream",
     "text": [
      "p-value: 0.13964\n",
      "p > a: do not reject H0\n"
     ]
    }
   ],
   "source": [
    "p = stats.norm.sf(sm, loc=m0, scale=s/np.sqrt(n))\n",
    "print(\"p-value: %.5f\" % p)\n",
    "if(p < a):\n",
    "    print(\"p < a: reject H0\")\n",
    "else:\n",
    "    print(\"p > a: do not reject H0\")\n",
    "\n",
    "# Niet genoeg reden om de Nulhyposthese te verwerpen."
   ]
  },
  {
   "cell_type": "markdown",
   "metadata": {},
   "source": [
    "<u>Method 2</u>\n",
    "\n",
    "An alternative method is to determine the critical region, i.e. the set of all values for the sample mean where $H_0$ may be rejected.  \n",
    "The boundary of that area is called the critical value $g$. To the left of it you can't reject $H_0$ (acceptance region), to the right you can (critical region). The area of the acceptance region is $1 - \\alpha$, the area of the critical region is $\\alpha$."
   ]
  },
  {
   "cell_type": "code",
   "execution_count": 68,
   "metadata": {},
   "outputs": [
    {
     "name": "stdout",
     "output_type": "stream",
     "text": [
      "Critical value g ≃ 511.456\n",
      "sample mean = 507.535 < g = 511.456: do not reject H0\n"
     ]
    }
   ],
   "source": [
    "g = stats.norm.isf(a, loc = m0, scale = s / np.sqrt(n))\n",
    "print(\"Critical value g ≃ %.3f\" % g)\n",
    "if (sm < g):\n",
    "    print(\"sample mean = %.3f < g = %.3f: do not reject H0\" % (sm, g))\n",
    "else:\n",
    "    print(\"sample mean = %.3f > g = %.3f: reject H0\" % (sm, g))\n",
    "# Geen reden om H0 te verwerpen"
   ]
  },
  {
   "attachments": {},
   "cell_type": "markdown",
   "metadata": {},
   "source": [
    "**Step 5**  \n",
    "We can conclude there is no reason to reject the null hypothesis."
   ]
  }
 ],
 "metadata": {
  "kernelspec": {
   "display_name": "Python 3",
   "language": "python",
   "name": "python3"
  },
  "language_info": {
   "codemirror_mode": {
    "name": "ipython",
    "version": 3
   },
   "file_extension": ".py",
   "mimetype": "text/x-python",
   "name": "python",
   "nbconvert_exporter": "python",
   "pygments_lexer": "ipython3",
   "version": "3.10.2"
  }
 },
 "nbformat": 4,
 "nbformat_minor": 2
}
